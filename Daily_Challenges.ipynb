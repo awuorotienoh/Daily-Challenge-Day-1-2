{
  "nbformat": 4,
  "nbformat_minor": 0,
  "metadata": {
    "colab": {
      "provenance": []
    },
    "kernelspec": {
      "name": "python3",
      "display_name": "Python 3"
    },
    "language_info": {
      "name": "python"
    }
  },
  "cells": [
    {
      "cell_type": "markdown",
      "source": [
        "Challenge : Day 1"
      ],
      "metadata": {
        "id": "Q8DYWS_nYaCg"
      }
    },
    {
      "cell_type": "code",
      "execution_count": null,
      "metadata": {
        "id": "ADUmr3tYUcU3"
      },
      "outputs": [],
      "source": [
        "%load_ext sql"
      ]
    },
    {
      "cell_type": "markdown",
      "source": [
        "Challenge: Day 1"
      ],
      "metadata": {
        "id": "BhoebdQ0b5re"
      }
    },
    {
      "cell_type": "code",
      "source": [
        "%sql sqlite:///abc_data.db"
      ],
      "metadata": {
        "id": "EoorSCWDUsnz"
      },
      "execution_count": 5,
      "outputs": []
    },
    {
      "cell_type": "code",
      "source": [
        " %%sql CREATE TABLE customer (\n",
        "            customer_id integer PRIMARY KEY,\n",
        "            customer_first_name varchar(100),\n",
        "            customer_last_name varchar(100),\n",
        "            customer_email varchar(100)\n",
        "         );"
      ],
      "metadata": {
        "colab": {
          "base_uri": "https://localhost:8080/"
        },
        "id": "Lt6f2Jb0a6pA",
        "outputId": "c6303223-3004-49fd-f6be-9ce9a18bd3f6"
      },
      "execution_count": 16,
      "outputs": [
        {
          "output_type": "stream",
          "name": "stdout",
          "text": [
            " * sqlite:///abc_data.db\n",
            "Done.\n"
          ]
        },
        {
          "output_type": "execute_result",
          "data": {
            "text/plain": [
              "[]"
            ]
          },
          "metadata": {},
          "execution_count": 16
        }
      ]
    },
    {
      "cell_type": "markdown",
      "source": [
        "Challenge: Day 2"
      ],
      "metadata": {
        "id": "V6mqOArEb1KP"
      }
    },
    {
      "cell_type": "code",
      "source": [
        "%%sql INSERT INTO customer (customer_id, customer_first_name, customer_last_name,customer_email) VALUES\n",
        "        (1, 'John', 'Doe', 'johndoe@email.com'),\n",
        "        (2, 'Jane', 'Smith', 'janesmith@email.com'),\n",
        "        (3, 'Bob', 'Johnson', 'bobjohnson@email.com'),\n",
        "        (4, 'Alice', 'Brown', 'alicebrown@email.com'),\n",
        "        (5, 'Charlie', 'Davis', 'charliedavis@email.com'),\n",
        "        (6, 'Eva', 'Fisher', 'evafisher@email.com'),\n",
        "        (7, 'George', 'Harris', 'georgeharris@email.com'),\n",
        "        (8, 'Ivy', 'Jones', 'ivyjones@email.com'),\n",
        "        (9, 'Kevin', 'Miller', 'kevinmiller@email.com'),\n",
        "        (10, 'Lily', 'Nelson', 'lilynelson@email.com'),\n",
        "        (11, 'Oliver', 'Patterson', 'oliverpatterson@email.com'),\n",
        "        (12, 'Quinn', 'Roberts', 'quinnroberts@email.com'),\n",
        "        (13, 'Sophia', 'Thomas', 'sophiathomas@email.com');"
      ],
      "metadata": {
        "colab": {
          "base_uri": "https://localhost:8080/"
        },
        "id": "XgwN9We8bSTN",
        "outputId": "2b774b54-83a2-4202-8b82-ff3bd2af9f2a"
      },
      "execution_count": 18,
      "outputs": [
        {
          "output_type": "stream",
          "name": "stdout",
          "text": [
            " * sqlite:///abc_data.db\n",
            "13 rows affected.\n"
          ]
        },
        {
          "output_type": "execute_result",
          "data": {
            "text/plain": [
              "[]"
            ]
          },
          "metadata": {},
          "execution_count": 18
        }
      ]
    },
    {
      "cell_type": "code",
      "source": [
        "%%sql CREATE TABLE product(\n",
        "            product_id integer PRIMARY KEY,\n",
        "            product_name varchar(30),\n",
        "            price integer(15)\n",
        "         );"
      ],
      "metadata": {
        "colab": {
          "base_uri": "https://localhost:8080/"
        },
        "id": "khrKZJYJcSfO",
        "outputId": "d3fb9fd9-19dd-4063-c78d-3ff95c74f180"
      },
      "execution_count": 23,
      "outputs": [
        {
          "output_type": "stream",
          "name": "stdout",
          "text": [
            " * sqlite:///abc_data.db\n",
            "Done.\n"
          ]
        },
        {
          "output_type": "execute_result",
          "data": {
            "text/plain": [
              "[]"
            ]
          },
          "metadata": {},
          "execution_count": 23
        }
      ]
    },
    {
      "cell_type": "code",
      "source": [
        "%%sql  INSERT INTO product (product_id, product_name, price) VALUES\n",
        "        (1, 'Product A', 10.00),\n",
        "        (2, 'Product B', 15.00),\n",
        "        (3, 'Product C', 20.00),\n",
        "        (4, 'Product D', 25.00),\n",
        "        (5, 'Product E', 30.00),\n",
        "        (6, 'Product F', 35.00),\n",
        "        (7, 'Product G', 40.00),\n",
        "        (8, 'Product H', 45.00),\n",
        "        (9, 'Product I', 50.00),\n",
        "        (10, 'Product J', 55.00),\n",
        "        (11, 'Product K', 60.00),\n",
        "        (12, 'Product L', 65.00),\n",
        "        (13, 'Product M', 70.00);"
      ],
      "metadata": {
        "colab": {
          "base_uri": "https://localhost:8080/"
        },
        "id": "e0Q7lyf0dYrJ",
        "outputId": "e1e6f3c8-5d02-44ef-a0bc-44ef09e5485e"
      },
      "execution_count": 25,
      "outputs": [
        {
          "output_type": "stream",
          "name": "stdout",
          "text": [
            " * sqlite:///abc_data.db\n",
            "13 rows affected.\n"
          ]
        },
        {
          "output_type": "execute_result",
          "data": {
            "text/plain": [
              "[]"
            ]
          },
          "metadata": {},
          "execution_count": 25
        }
      ]
    },
    {
      "cell_type": "code",
      "source": [
        "%%sql CREATE TABLE orders(\n",
        "    order_id interger PRIMARY KEY,\n",
        "    customer_id integer (20),\n",
        "    order_date integer (10)\n",
        ");"
      ],
      "metadata": {
        "colab": {
          "base_uri": "https://localhost:8080/"
        },
        "id": "OaBbwVcJdz1z",
        "outputId": "8cba7384-6af2-4c93-ff01-e3ea8cf1f910"
      },
      "execution_count": 26,
      "outputs": [
        {
          "output_type": "stream",
          "name": "stdout",
          "text": [
            " * sqlite:///abc_data.db\n",
            "Done.\n"
          ]
        },
        {
          "output_type": "execute_result",
          "data": {
            "text/plain": [
              "[]"
            ]
          },
          "metadata": {},
          "execution_count": 26
        }
      ]
    },
    {
      "cell_type": "code",
      "source": [
        "%%sql INSERT INTO orders (order_id, customer_id, order_date) VALUES\n",
        "        (1, 1, '2023-05-01'),\n",
        "        (2, 2, '2023-05-02'),\n",
        "        (3, 3, '2023-05-03'),\n",
        "        (4, 1, '2023-05-04'),\n",
        "        (5, 2, '2023-05-05'),\n",
        "        (6, 3, '2023-05-06'),\n",
        "        (7, 4, '2023-05-07'),\n",
        "        (8, 5, '2023-05-08'),\n",
        "        (9, 6, '2023-05-09'),\n",
        "        (10, 7, '2023-05-10'),\n",
        "        (11, 8, '2023-05-11'),\n",
        "        (12, 9, '2023-05-12'),\n",
        "        (13, 10, '2023-05-13'),\n",
        "        (14, 11, '2023-05-14'),\n",
        "        (15, 12, '2023-05-15'),\n",
        "        (16, 13, '2023-05-16');"
      ],
      "metadata": {
        "colab": {
          "base_uri": "https://localhost:8080/"
        },
        "id": "rxm7rqFkejVH",
        "outputId": "d926b5b4-cda5-482c-dcd3-6d3f3b03cfc0"
      },
      "execution_count": 27,
      "outputs": [
        {
          "output_type": "stream",
          "name": "stdout",
          "text": [
            " * sqlite:///abc_data.db\n",
            "16 rows affected.\n"
          ]
        },
        {
          "output_type": "execute_result",
          "data": {
            "text/plain": [
              "[]"
            ]
          },
          "metadata": {},
          "execution_count": 27
        }
      ]
    },
    {
      "cell_type": "code",
      "source": [
        "%%sql CREATE TABLE order_items(\n",
        "    order_id interger PRIMARY KEY,\n",
        "    product_id integer (20),\n",
        "    quantity integer (10)\n",
        ");"
      ],
      "metadata": {
        "colab": {
          "base_uri": "https://localhost:8080/"
        },
        "id": "OYgItFQyhplY",
        "outputId": "a844efeb-f812-46d2-ebef-32926eec2ef5"
      },
      "execution_count": 39,
      "outputs": [
        {
          "output_type": "stream",
          "name": "stdout",
          "text": [
            " * sqlite:///abc_data.db\n",
            "(sqlite3.OperationalError) table order_items already exists\n",
            "[SQL: CREATE TABLE order_items(\n",
            "    order_id interger PRIMARY KEY,\n",
            "    product_id integer (20),\n",
            "    quantity integer (10)\n",
            ");]\n",
            "(Background on this error at: https://sqlalche.me/e/20/e3q8)\n"
          ]
        }
      ]
    },
    {
      "cell_type": "code",
      "source": [
        "%%sql DROP TABLE order_items"
      ],
      "metadata": {
        "colab": {
          "base_uri": "https://localhost:8080/"
        },
        "id": "wjxvhpfkj9jT",
        "outputId": "5c7cab6f-485a-4182-8666-aa2691ea09e6"
      },
      "execution_count": 41,
      "outputs": [
        {
          "output_type": "stream",
          "name": "stdout",
          "text": [
            " * sqlite:///abc_data.db\n",
            "Done.\n"
          ]
        },
        {
          "output_type": "execute_result",
          "data": {
            "text/plain": [
              "[]"
            ]
          },
          "metadata": {},
          "execution_count": 41
        }
      ]
    },
    {
      "cell_type": "code",
      "source": [
        "%%sql CREATE TABLE order_items(\n",
        "  order_id interger(10),\n",
        "  product_id interger(10),\n",
        "  quantity interger(10)\n",
        ");"
      ],
      "metadata": {
        "colab": {
          "base_uri": "https://localhost:8080/"
        },
        "id": "8edQImJHkKa3",
        "outputId": "74444c95-ba8a-49ff-dab4-79ff42cf2ef9"
      },
      "execution_count": 42,
      "outputs": [
        {
          "output_type": "stream",
          "name": "stdout",
          "text": [
            " * sqlite:///abc_data.db\n",
            "Done.\n"
          ]
        },
        {
          "output_type": "execute_result",
          "data": {
            "text/plain": [
              "[]"
            ]
          },
          "metadata": {},
          "execution_count": 42
        }
      ]
    },
    {
      "cell_type": "code",
      "source": [
        "%%sql INSERT INTO order_items (order_id, product_id, quantity) VALUES\n",
        "        (1, 1, 2),\n",
        "        (1, 2, 1),\n",
        "        (2, 2, 1),\n",
        "        (2, 3, 3),\n",
        "        (3, 1, 1),\n",
        "        (3, 3, 2),\n",
        "        (4, 2, 4),\n",
        "        (4, 3, 1),\n",
        "        (5, 1, 1),\n",
        "        (5, 3, 2),\n",
        "        (6, 2, 3),\n",
        "        (6, 1, 1),\n",
        "        (7, 4, 1),\n",
        "        (7, 5, 2),\n",
        "        (8, 6, 3),\n",
        "        (8, 7, 1),\n",
        "        (9, 8, 2),\n",
        "        (9, 9, 1),\n",
        "        (10, 10, 3),\n",
        "        (10, 11, 2),\n",
        "        (11, 12, 1),\n",
        "        (11, 13, 3),\n",
        "        (12, 4, 2),\n",
        "        (12, 5, 1),\n",
        "        (13, 6, 3),\n",
        "        (13, 7, 2),\n",
        "        (14, 8, 1),\n",
        "        (14, 9, 2),\n",
        "        (15, 10, 3),\n",
        "        (15, 11, 1),\n",
        "        (16, 12, 2),\n",
        "        (16, 13, 3);"
      ],
      "metadata": {
        "colab": {
          "base_uri": "https://localhost:8080/"
        },
        "id": "vSro3wNQkx-x",
        "outputId": "0886e907-aca9-4541-837d-d0a4c2a32bf6"
      },
      "execution_count": 43,
      "outputs": [
        {
          "output_type": "stream",
          "name": "stdout",
          "text": [
            " * sqlite:///abc_data.db\n",
            "32 rows affected.\n"
          ]
        },
        {
          "output_type": "execute_result",
          "data": {
            "text/plain": [
              "[]"
            ]
          },
          "metadata": {},
          "execution_count": 43
        }
      ]
    }
  ]
}